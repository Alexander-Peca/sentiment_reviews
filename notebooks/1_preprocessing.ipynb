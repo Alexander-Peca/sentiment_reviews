{
 "cells": [
  {
   "cell_type": "markdown",
   "metadata": {},
   "source": [
    "# Libraries"
   ]
  },
  {
   "cell_type": "code",
   "execution_count": 1,
   "metadata": {},
   "outputs": [],
   "source": [
    "# Standard libraries\n",
    "import numpy as np\n",
    "import pandas as pd\n",
    "import kagglehub\n",
    "import os\n",
    "pd.set_option('display.max_colwidth', None)  # Show full content of columns\n",
    "\n",
    "# Visualization libraries \n",
    "\n",
    "import matplotlib.pyplot as plt\n",
    "import seaborn as sns\n",
    "\n",
    "# Text preprocessing\n",
    "import re\n",
    "from nltk.tokenize import word_tokenize\n",
    "from nltk.corpus import stopwords\n",
    "from wordcloud import WordCloud\n",
    "from wordcloud import STOPWORDS\n",
    "from collections import Counter\n",
    "\n",
    "# Feature extraction (vectorization)\n",
    "from sklearn.feature_extraction.text import CountVectorizer\n",
    "from sklearn.feature_extraction.text import TfidfVectorizer\n",
    "\n",
    "# Stemming and Lemmatization\n",
    "from nltk.stem.snowball import PorterStemmer\n",
    "from nltk.stem import WordNetLemmatizer # This one was preferred over PorterStemmer\n",
    "\n",
    "\n",
    "# Train-test split\n",
    "from sklearn.model_selection import train_test_split\n",
    "\n",
    "# Machine learning models\n",
    "\n",
    "from sklearn.ensemble import GradientBoostingClassifier\n",
    "from sklearn.linear_model import LogisticRegression\n",
    "from sklearn.ensemble import RandomForestClassifier\n",
    "from sklearn.naive_bayes import MultinomialNB\n",
    "from sklearn.svm import LinearSVC\n",
    "from lightgbm import LGBMClassifier\n",
    "from xgboost import XGBClassifier\n",
    "import imblearn\n",
    "\n",
    "from imblearn.over_sampling import SMOTE # Addressing class imbalances\n",
    "from collections import Counter\n",
    "\n",
    "\n",
    "# Evaluation metrics\n",
    "\n",
    "from sklearn.metrics import classification_report, confusion_matrix\n"
   ]
  },
  {
   "cell_type": "code",
   "execution_count": 2,
   "metadata": {},
   "outputs": [],
   "source": [
    "# dataset taken from \"https://www.kaggle.com/datasets/arhamrumi/amazon-product-reviews\"\n",
    "\n",
    "# Download the dataset\n",
    "path = kagglehub.dataset_download(\"arhamrumi/amazon-product-reviews\")\n",
    "\n",
    "# Dynamically identify the file without showing the local path\n",
    "files = os.listdir(path)  # List all files in the dataset directory\n",
    "csv_file = [f for f in files if f.endswith(\".csv\")][0]  # Find the CSV file\n",
    "df = pd.read_csv(os.path.join(path, csv_file))"
   ]
  },
  {
   "cell_type": "code",
   "execution_count": 3,
   "metadata": {},
   "outputs": [
    {
     "data": {
      "text/html": [
       "<div>\n",
       "<style scoped>\n",
       "    .dataframe tbody tr th:only-of-type {\n",
       "        vertical-align: middle;\n",
       "    }\n",
       "\n",
       "    .dataframe tbody tr th {\n",
       "        vertical-align: top;\n",
       "    }\n",
       "\n",
       "    .dataframe thead th {\n",
       "        text-align: right;\n",
       "    }\n",
       "</style>\n",
       "<table border=\"1\" class=\"dataframe\">\n",
       "  <thead>\n",
       "    <tr style=\"text-align: right;\">\n",
       "      <th></th>\n",
       "      <th>Id</th>\n",
       "      <th>ProductId</th>\n",
       "      <th>UserId</th>\n",
       "      <th>ProfileName</th>\n",
       "      <th>HelpfulnessNumerator</th>\n",
       "      <th>HelpfulnessDenominator</th>\n",
       "      <th>Score</th>\n",
       "      <th>Time</th>\n",
       "      <th>Summary</th>\n",
       "      <th>Text</th>\n",
       "    </tr>\n",
       "  </thead>\n",
       "  <tbody>\n",
       "    <tr>\n",
       "      <th>0</th>\n",
       "      <td>1</td>\n",
       "      <td>B001E4KFG0</td>\n",
       "      <td>A3SGXH7AUHU8GW</td>\n",
       "      <td>delmartian</td>\n",
       "      <td>1</td>\n",
       "      <td>1</td>\n",
       "      <td>5</td>\n",
       "      <td>1303862400</td>\n",
       "      <td>Good Quality Dog Food</td>\n",
       "      <td>I have bought several of the Vitality canned dog food products and have found them all to be of good quality. The product looks more like a stew than a processed meat and it smells better. My Labrador is finicky and she appreciates this product better than  most.</td>\n",
       "    </tr>\n",
       "    <tr>\n",
       "      <th>1</th>\n",
       "      <td>2</td>\n",
       "      <td>B00813GRG4</td>\n",
       "      <td>A1D87F6ZCVE5NK</td>\n",
       "      <td>dll pa</td>\n",
       "      <td>0</td>\n",
       "      <td>0</td>\n",
       "      <td>1</td>\n",
       "      <td>1346976000</td>\n",
       "      <td>Not as Advertised</td>\n",
       "      <td>Product arrived labeled as Jumbo Salted Peanuts...the peanuts were actually small sized unsalted. Not sure if this was an error or if the vendor intended to represent the product as \"Jumbo\".</td>\n",
       "    </tr>\n",
       "    <tr>\n",
       "      <th>2</th>\n",
       "      <td>3</td>\n",
       "      <td>B000LQOCH0</td>\n",
       "      <td>ABXLMWJIXXAIN</td>\n",
       "      <td>Natalia Corres \"Natalia Corres\"</td>\n",
       "      <td>1</td>\n",
       "      <td>1</td>\n",
       "      <td>4</td>\n",
       "      <td>1219017600</td>\n",
       "      <td>\"Delight\" says it all</td>\n",
       "      <td>This is a confection that has been around a few centuries.  It is a light, pillowy citrus gelatin with nuts - in this case Filberts. And it is cut into tiny squares and then liberally coated with powdered sugar.  And it is a tiny mouthful of heaven.  Not too chewy, and very flavorful.  I highly recommend this yummy treat.  If you are familiar with the story of C.S. Lewis' \"The Lion, The Witch, and The Wardrobe\" - this is the treat that seduces Edmund into selling out his Brother and Sisters to the Witch.</td>\n",
       "    </tr>\n",
       "    <tr>\n",
       "      <th>3</th>\n",
       "      <td>4</td>\n",
       "      <td>B000UA0QIQ</td>\n",
       "      <td>A395BORC6FGVXV</td>\n",
       "      <td>Karl</td>\n",
       "      <td>3</td>\n",
       "      <td>3</td>\n",
       "      <td>2</td>\n",
       "      <td>1307923200</td>\n",
       "      <td>Cough Medicine</td>\n",
       "      <td>If you are looking for the secret ingredient in Robitussin I believe I have found it.  I got this in addition to the Root Beer Extract I ordered (which was good) and made some cherry soda.  The flavor is very medicinal.</td>\n",
       "    </tr>\n",
       "    <tr>\n",
       "      <th>4</th>\n",
       "      <td>5</td>\n",
       "      <td>B006K2ZZ7K</td>\n",
       "      <td>A1UQRSCLF8GW1T</td>\n",
       "      <td>Michael D. Bigham \"M. Wassir\"</td>\n",
       "      <td>0</td>\n",
       "      <td>0</td>\n",
       "      <td>5</td>\n",
       "      <td>1350777600</td>\n",
       "      <td>Great taffy</td>\n",
       "      <td>Great taffy at a great price.  There was a wide assortment of yummy taffy.  Delivery was very quick.  If your a taffy lover, this is a deal.</td>\n",
       "    </tr>\n",
       "  </tbody>\n",
       "</table>\n",
       "</div>"
      ],
      "text/plain": [
       "   Id   ProductId          UserId                      ProfileName  \\\n",
       "0   1  B001E4KFG0  A3SGXH7AUHU8GW                       delmartian   \n",
       "1   2  B00813GRG4  A1D87F6ZCVE5NK                           dll pa   \n",
       "2   3  B000LQOCH0   ABXLMWJIXXAIN  Natalia Corres \"Natalia Corres\"   \n",
       "3   4  B000UA0QIQ  A395BORC6FGVXV                             Karl   \n",
       "4   5  B006K2ZZ7K  A1UQRSCLF8GW1T    Michael D. Bigham \"M. Wassir\"   \n",
       "\n",
       "   HelpfulnessNumerator  HelpfulnessDenominator  Score        Time  \\\n",
       "0                     1                       1      5  1303862400   \n",
       "1                     0                       0      1  1346976000   \n",
       "2                     1                       1      4  1219017600   \n",
       "3                     3                       3      2  1307923200   \n",
       "4                     0                       0      5  1350777600   \n",
       "\n",
       "                 Summary  \\\n",
       "0  Good Quality Dog Food   \n",
       "1      Not as Advertised   \n",
       "2  \"Delight\" says it all   \n",
       "3         Cough Medicine   \n",
       "4            Great taffy   \n",
       "\n",
       "                                                                                                                                                                                                                                                                                                                                                                                                                                                                                                                            Text  \n",
       "0                                                                                                                                                                                                                                                        I have bought several of the Vitality canned dog food products and have found them all to be of good quality. The product looks more like a stew than a processed meat and it smells better. My Labrador is finicky and she appreciates this product better than  most.  \n",
       "1                                                                                                                                                                                                                                                                                                                                 Product arrived labeled as Jumbo Salted Peanuts...the peanuts were actually small sized unsalted. Not sure if this was an error or if the vendor intended to represent the product as \"Jumbo\".  \n",
       "2  This is a confection that has been around a few centuries.  It is a light, pillowy citrus gelatin with nuts - in this case Filberts. And it is cut into tiny squares and then liberally coated with powdered sugar.  And it is a tiny mouthful of heaven.  Not too chewy, and very flavorful.  I highly recommend this yummy treat.  If you are familiar with the story of C.S. Lewis' \"The Lion, The Witch, and The Wardrobe\" - this is the treat that seduces Edmund into selling out his Brother and Sisters to the Witch.  \n",
       "3                                                                                                                                                                                                                                                                                                    If you are looking for the secret ingredient in Robitussin I believe I have found it.  I got this in addition to the Root Beer Extract I ordered (which was good) and made some cherry soda.  The flavor is very medicinal.  \n",
       "4                                                                                                                                                                                                                                                                                                                                                                                   Great taffy at a great price.  There was a wide assortment of yummy taffy.  Delivery was very quick.  If your a taffy lover, this is a deal.  "
      ]
     },
     "metadata": {},
     "output_type": "display_data"
    },
    {
     "name": "stdout",
     "output_type": "stream",
     "text": [
      "<class 'pandas.core.frame.DataFrame'>\n",
      "RangeIndex: 568454 entries, 0 to 568453\n",
      "Data columns (total 10 columns):\n",
      " #   Column                  Non-Null Count   Dtype \n",
      "---  ------                  --------------   ----- \n",
      " 0   Id                      568454 non-null  int64 \n",
      " 1   ProductId               568454 non-null  object\n",
      " 2   UserId                  568454 non-null  object\n",
      " 3   ProfileName             568428 non-null  object\n",
      " 4   HelpfulnessNumerator    568454 non-null  int64 \n",
      " 5   HelpfulnessDenominator  568454 non-null  int64 \n",
      " 6   Score                   568454 non-null  int64 \n",
      " 7   Time                    568454 non-null  int64 \n",
      " 8   Summary                 568427 non-null  object\n",
      " 9   Text                    568454 non-null  object\n",
      "dtypes: int64(5), object(5)\n",
      "memory usage: 43.4+ MB\n"
     ]
    },
    {
     "data": {
      "text/plain": [
       "None"
      ]
     },
     "metadata": {},
     "output_type": "display_data"
    }
   ],
   "source": [
    "# Display the data\n",
    "display(df.head())\n",
    "display(df.info())\n",
    "#display(df.describe(include=\"all\"))"
   ]
  },
  {
   "cell_type": "markdown",
   "metadata": {},
   "source": [
    "# Data Cleaning"
   ]
  },
  {
   "cell_type": "code",
   "execution_count": 4,
   "metadata": {},
   "outputs": [
    {
     "name": "stdout",
     "output_type": "stream",
     "text": [
      "Id                         0\n",
      "ProductId                  0\n",
      "UserId                     0\n",
      "ProfileName               26\n",
      "HelpfulnessNumerator       0\n",
      "HelpfulnessDenominator     0\n",
      "Score                      0\n",
      "Time                       0\n",
      "Summary                   27\n",
      "Text                       0\n",
      "dtype: int64\n"
     ]
    }
   ],
   "source": [
    "print(df.isnull().sum())"
   ]
  },
  {
   "cell_type": "code",
   "execution_count": 5,
   "metadata": {},
   "outputs": [
    {
     "name": "stdout",
     "output_type": "stream",
     "text": [
      "<class 'pandas.core.frame.DataFrame'>\n",
      "RangeIndex: 568454 entries, 0 to 568453\n",
      "Data columns (total 5 columns):\n",
      " #   Column     Non-Null Count   Dtype \n",
      "---  ------     --------------   ----- \n",
      " 0   ProductId  568454 non-null  object\n",
      " 1   UserId     568454 non-null  object\n",
      " 2   Score      568454 non-null  int64 \n",
      " 3   Time       568454 non-null  int64 \n",
      " 4   Text       568454 non-null  object\n",
      "dtypes: int64(2), object(3)\n",
      "memory usage: 21.7+ MB\n",
      "None\n",
      "Remaining rows: 568454\n"
     ]
    }
   ],
   "source": [
    "# Removing variables irrelevant for the project goal, which also help to remove rows with missing values\n",
    " \n",
    "df = df.drop(columns = ['ProfileName', 'Id','Summary', 'HelpfulnessNumerator', 'HelpfulnessDenominator'])\n",
    "#df = df.dropna(subset=['Summary'])\n",
    "\n",
    "# Helpfulnessnumerator (number of users who found the review helpful) and denominator (total numbers of users who rated the helpfulness of the review) will be kept \n",
    "# Time column (as Unix timestamp format) will also be kept provisionally \n",
    "\n",
    "# Verify the changes\n",
    "print(df.info())  \n",
    "print(f\"Remaining rows: {df.shape[0]}\")  # Check number of remaining rows"
   ]
  },
  {
   "cell_type": "code",
   "execution_count": 6,
   "metadata": {},
   "outputs": [
    {
     "name": "stdout",
     "output_type": "stream",
     "text": [
      "ProductId    0\n",
      "UserId       0\n",
      "Score        0\n",
      "Time         0\n",
      "Text         0\n",
      "dtype: int64\n"
     ]
    }
   ],
   "source": [
    "print(df.isnull().sum())"
   ]
  },
  {
   "cell_type": "markdown",
   "metadata": {},
   "source": [
    "## Preprocessing column Score"
   ]
  },
  {
   "cell_type": "code",
   "execution_count": 7,
   "metadata": {},
   "outputs": [
    {
     "data": {
      "text/plain": [
       "array([5, 1, 4, 2, 3])"
      ]
     },
     "execution_count": 7,
     "metadata": {},
     "output_type": "execute_result"
    }
   ],
   "source": [
    "df['Score'].unique()\n",
    "# Score follows the usual convention of descending order, whereby 5 is the best and 1 is the worst score. Let's build a map"
   ]
  },
  {
   "cell_type": "code",
   "execution_count": 8,
   "metadata": {},
   "outputs": [
    {
     "data": {
      "image/png": "[encoded data removed]",
      "text/plain": [
       "<Figure size 640x480 with 1 Axes>"
      ]
     },
     "metadata": {},
     "output_type": "display_data"
    }
   ],
   "source": [
    "# Grouping the provided scores into positive, neutral and negative sentiments\n",
    "\n",
    "def map_sentiment(score):\n",
    "    if score <= 2:\n",
    "        return \"Negative\"\n",
    "    elif score == 3:\n",
    "        return \"Neutral\"\n",
    "    else:\n",
    "        return \"Positive\"\n",
    "\n",
    "df['Sentiment'] = df['Score'].apply(map_sentiment)\n",
    "\n",
    "import matplotlib.pyplot as plt\n",
    "df['Sentiment'].value_counts().plot(kind='bar', title=\"Sentiment Distribution\")\n",
    "plt.show()\n",
    "\n",
    "# If the goal is classification, class imbalance must be dealt with, i.a. using Synthetic Minority Oversampling Technique from imblearn, undersampling, assign higher weights to minority classes\n",
    "# class_weight = balanced, etc)"
   ]
  },
  {
   "cell_type": "markdown",
   "metadata": {},
   "source": [
    "## Preprocessing column \"Text\""
   ]
  },
  {
   "cell_type": "markdown",
   "metadata": {},
   "source": [
    "## Outlier text lenght"
   ]
  },
  {
   "cell_type": "code",
   "execution_count": 9,
   "metadata": {},
   "outputs": [
    {
     "data": {
      "image/png": "[encoded data removed]",
      "text/plain": [
       "<Figure size 640x480 with 1 Axes>"
      ]
     },
     "metadata": {},
     "output_type": "display_data"
    }
   ],
   "source": [
    "# Checking review lenght\n",
    "\n",
    "df['Text_Length'] = df['Text'].apply(len) # using len, it will show character count on x-axis and frequency is represented in the y-axis\n",
    "\n",
    "df['Text_Length'].hist(bins=1000)\n",
    "plt.title(\"Text Length Distribution\")\n",
    "plt.show()"
   ]
  },
  {
   "cell_type": "code",
   "execution_count": 10,
   "metadata": {},
   "outputs": [
    {
     "data": {
      "image/png": "[encoded data removed]",
      "text/plain": [
       "<Figure size 640x480 with 1 Axes>"
      ]
     },
     "metadata": {},
     "output_type": "display_data"
    }
   ],
   "source": [
    "# let's see it as number of words instead of characters\n",
    "\n",
    "df['Text_Length2'] = df['Text'].apply(lambda x: len(x.split()))\n",
    "\n",
    "df['Text_Length2'].hist(bins=1000) # range =(0,500)\n",
    "plt.title(\"Text Length Distribution (Number of Words)\")\n",
    "plt.xlabel(\"Number of Words\")\n",
    "plt.ylabel(\"Frequency\")\n",
    "plt.show()\n",
    "\n",
    "# The long tail of the distributions means the presence of outliers (small number of very long reviews)\n",
    "# Let's study this "
   ]
  },
  {
   "cell_type": "code",
   "execution_count": 11,
   "metadata": {},
   "outputs": [
    {
     "name": "stdout",
     "output_type": "stream",
     "text": [
      "count    568454.000000\n",
      "mean         80.264023\n",
      "std          79.455384\n",
      "min           3.000000\n",
      "25%          33.000000\n",
      "50%          56.000000\n",
      "75%          98.000000\n",
      "max        3432.000000\n",
      "Name: Text_Length2, dtype: float64\n",
      "========================================\n",
      "count    568454.000000\n",
      "mean        436.222083\n",
      "std         445.339741\n",
      "min          12.000000\n",
      "25%         179.000000\n",
      "50%         302.000000\n",
      "75%         527.000000\n",
      "max       21409.000000\n",
      "Name: Text_Length, dtype: float64\n"
     ]
    }
   ],
   "source": [
    "print(df['Text_Length2'].describe()) # words\n",
    "print(\"========================================\")\n",
    "print(df['Text_Length'].describe()) # carachters"
   ]
  },
  {
   "cell_type": "code",
   "execution_count": 12,
   "metadata": {},
   "outputs": [
    {
     "name": "stdout",
     "output_type": "stream",
     "text": [
      "I once loved these chips and they were the only chips i would buy.  I discovered them when I was in England back in 2000 and quickly became a fan.  About a year ago I picked up a bag that was on sale at my local supermarket.  I was finding it odd that they were on sale so much but took advantage of it.  After opening the bag I found the chips were not even close to the Kettle chips I was used to.  They were all uniform whitish yellow in color, flavor was way off, the lovely extra crisp brown chips were gone completely and I was very disappointed.  So I e-mailed Kettle with the following:  \"What Happened? I bought this bag of chips the other day and they have a very different taste; It tastes \"cheaper\". I don't know how else to put it... I also noticed that the chips seemed to be less cooked as I did not see any of the browner colored chips that have the most flavor. I am hoping that nothing has changed with the ingredients or process used to produce this product. Did I just get a weird batch? I have been buying only Kettle Chips for about 10 years now so I am wondering.\"  I did receive a reply: \"Thanks for letting us know about your experience with your Kettle Brand® Chips. It sounds like you may have received a bag that should not have slipped by our inspections, and we apologize.Our potatoes do vary seasonally which could account for a variation in color-but our chips should still taste great!Thanks for providing us with the \"best before\" code from the bag.  This really helps when passing on your comments to our staff.<br />We are sending some coupons to replace your purchase with any of our Kettle Brand® flavors or nut butters, believing you will have a great experience with your next purchase! In case you buy this product again, we suggest avoiding the same best before date (if you still have it) in the rare instance another bag from the same case slipped by our inspections at the same time.<br />Thanks again for letting us know about this and expect the coupons to arrive within 3 weeks.  Please let me know if I can be of any more help.\"  Well the next bag was good.  Since that time I have picked up 3 bags of chips all were like the \"bad\" bag so I am pretty sure that they have changed there product to reduce cost.  I did some research and found out that Kettle was bought out by a private equity company.  So the same cookie cutter management processes are probably being employed at Kettle.  Acquire company with high quality brand recognition, sell product to mass merchants, lower quality/cost of product to increase margin and finally sell company just before the customer base starts to realize that the brand is no longer a quality brand.  increased profits make the company more valuable on paper so they make a nice profit for the investors. Customer and employees lose out of course as does an unsuspecting buyer of the exploited brand.  Stay away from Kettle chips they are no longer the same...\n",
      "\n",
      "================================================================================\n",
      "\n",
      "I was getting VERY worried, when I read some of the other reviews here.  Specifically, the \"One Star\" reviews, to which I always go, to see if the faults these other reviewers find with any merchandise would prevent me from buying it.<br /><br />WOW!  They sure seemed to hate the KETTLE CHIPS, BACKYARD BARBECUE 9-OUNCE BAGS, (PACK OF 12), that I had bought as 1 ounce bags, liked A LOT, decided to subscribe....and then, for good measure, got 2 orders of the 9 ounce bags.<br /><br />Yes...I love potato chips....especially these KETTLE CHIPS, BACKYARD BARBECUE FLAVOUR....but others seemed to really HATE them...or at least, hate how they had changed.<br />But then I realized they were talking about OTHER FLAVOURS!  Amazon, in it's deep wisdom, has obviously seen fit to put ALL comments concerning ALL flavours of KETTLE, (and other brands of?????) potato chips, TOGETHER!<br /><br />Of course, this DOES have SOME advantages, because most potato-chip lovers, (like me!), enjoy eating several flavour, and brand varieties.  So, comparisons can be made easily.  Also, as we're all potato-chip lovers, but each person has his or her very favourite flavour that they are reviewing, we are, here a sort of \"United Nations of Potato Chip Lovers\"....all different, but all united in our love of Potato Chips!  (The rest of the world can REALLY benefit from the example of our tightly-knit, but ever...er,...expanding...group here, I think! : )  But -- not at first realizing that these<br />different flavour reviews were all together, did cause me a little confusion and dismay.... at least to begin with.... (Amazon should have mentioned that this is the \"Kettle Potato Chip Review Forum\"! : )<br /><br />I am happy to report that KETTLE CHIPS, BACKYARD BARBEQUE FLAVOUR, are totally delicious!  (At least they are in the one-ounce bags...hopefully the same product in the 9 ounce bags will taste the same!)  These are definitely chips for ADULTS, however -- and/or children whose stronger-than-adult taste buds can withstand the very strong flavour of these chips.  They are NOT the strongest flavour I have ever had...that was from a jalapeno pepper chip which was far too strong for even me!<br />These Backyard Barbeque chips by Kettle, however, have just the right amount of sweetness, (with honey powder, onion and sugar), to take the edge of the stonger flavours<br />(paprika, chili pepper, cayenne pepper, and natural smoke flavour), of which there is less, (they come further down in the list of ingredients than the sweeteners.)<br /><br />The complete list of ingredients of these KETTLE BACKYARD BARBECUE CHIPS, (in the 1-ounce bags, and hopefully, in the 9 ounce bags as well), is as follows:<br /><br />Potatoes<br />Vegetable Oil, (Safflower and Sunflower Oil),<br />Honey Powder, (Dried cane sugar, honey),<br />Rice Powder<br />Sugar<br />Salt<br />Onion Powder<br />Tomato Powder<br />Paprika<br />Torula Yeast<br />Garlic Powder<br />Chili Pepper<br />Citric Acid<br />Cayenne Pepper<br />Paprika Oleoresin, (Colour)<br />Natural Smoke Flavour<br /><br />Naturally cooked, natural ingredients.  The combination is a true taste treat!<br /><br />Of course, as with all ptato chips, moderation is the key.<br />Potatoes contain a LOT of potassium....which gives energy and othr good things....but too much of which can damage kindneys.  The vegetable oil is great -- but too much oil, (as well as too much starch, from the potatoes), can hurt the eyes.  Natural smoke flavour is SO yummy....but it, (as well as sugar), has -- in very large amounts -- been linked to cancer production<br /><br />As far as the starch from the potatoes and oil go, this<br />can be ameliorated, (a bit), by drinking TEA...which is good for the eyes.  But as far as the potassium, (energy - good, too much -- bad for the kidneys), and the sugar and natural smoke flavour, (too much leading to cancer production) -- the only thing is to do what is good in everything.....M O D E R A T I O N...!<br /><br />Twice or three times a month, I allow myself to go on what I call a \"Potato Chip Diet\".  I eat only one large bag, (or the equivalent in small ones), of potato chips all day.  I supplement this with tea, coffee, and lemonade, as well as several servings of Carnation Instant Breakfast Essentials, (I like the Dark Chocolate flavour)  This adds up to fewer calories than I would normally eat, if I had my normal three meals a day plus snacks.  It also teaches me to eat s-l-o-w-l-y, because that one big bag, (or many little bags), never lasts as long as I'd like.  Anyway, with excercise and sensible eating, the rest of the month, (and keeping my scale nearby, and weighing myself at least twice a day, every day), I've taken off ten pounds in the last three months! : )<br /><br />These BACKYARD BARBEQUE flavour potato chips from KETTLE,<br />are totally scrumptious.  Except for those jalapino chips, (which tasted good, but were far too spicy for my own taste buds), I have yet to meet a potato chip I didn't like to eat.  These Kettle BACKYARD BARBEQUE flavour potato chips, with their combination of potatoes, sweetness, and spices, have truly become one of my top five favourites....if not the VERY first favourite, of all!<br /><br />Flavoured potato PERFECTION!\n",
      "\n",
      "================================================================================\n",
      "\n",
      "Bear with me while I do amazon's work for them and copy from the Lakewood website:<br />---------------------------------------<br />Nutrition Facts<br />32oz UPC 042608460503<br /><br />Serving Size 8 oz<br />Serving Size 240 ml<br />Amount Per Serving<br />Calories 125  Calories from Fat 25<br />% Daily Value*<br />Total Fat 3.5g  6%<br />Saturated Fat 0.5g  4%<br />Trans Fat 0g<br />Cholesterol 0mg  0%<br />Potassium 370mg  10%<br />Sodium 25mg  1%<br />Total Carbohydrate 28g  9%<br />Dietary Fiber 4g  16%<br />Sugars 21g<br />Protein 2g<br /><br />Omega 3 40mg, Omega 6 600mg, Omega 9 2400mg, Vitamin A 20%, Vitamin C 100%, Calcium 6%, Iron 8%, Vitamin E 6%, Vitamin B1 (Thiamin) 6%, Vitamin B2 (Riboflavin) 4%, Niacin 6%, Vitamin B6 8%, Folate 8%, Magnesium 8%, Zinc 2%, Phosphorous 4%, Vitamin K 15%,<br />*Percent Daily values are based on a 2,000 calorie diet<br /><br />Ingredients<br />Certified Organic Juice Blend (Organic Acai, Organic Apple, Organic Concord Grape, Organic Grape, Organic Pomegranate, Organic Blackberry, Organic Blueberry, Organic Red Tart Cherry, And Organic Acerola Cherry From Concentrate); Organic Goji Berry, Natural Fiber (Organic Guar, Xanthan, Carrageenan, Sodium Alginate And Organic Locust Bean), And Organic Rose Hip.<br /><br />Gluten FREE* Casein FREE GMO FREE*<br />100% Fruit Juices are Gluten-Free<br />---------------------------------------<br /><br />This is an excellent Lakewood juice- they call it juice but it's as thick as an Odwalla drink like a smoothie. With all that's in it, this is a very good value. Considering you can pay as much for any one of the ingredients in it. My personal use is to add this to kombucha, maximizing it's longevity that way, I've tried many but this one is the best for kombucha. They say an 8oz glass has 2 servings of fruit on the Lakewood website. It's quite tasty in that it's not too sweet, very thick textured even with the tiny bits of seed in it reminiscent of a banana smoothie. The ingredient list is somewhat confusing but note that only the Acerola Cherry is from concentrate, everything else is fresh pressed. Acai is very high on the ORAC scale of anti-oxidants, Rose Hips are also very high, everything else is in the mid to high range of fruit. Pomegranate has many beneficial properties beyond just anti-oxidants as well, it's a noteworthy fighter of heart disease and Alzheimer's type dementia. Considering the price of Goji berries I really like their inclusion in this drink, albeit at a lesser level.<br /><br />BTW: Amazon had only 1 day wait before shipping.\n",
      "\n",
      "================================================================================\n",
      "\n",
      "They claim this product is \"unadulterated\", which would make you think \"oh! sweet! it's going to be the BEST, because nobody else's coconut oil says it's \"unadulterated\".  I checked out their website, and for those of you who don't know... you want to go for COLD PRESSED oils. If they're not cold pressed, it means they've been processed with major machinery and subjected to high heats, which as anything goes, can and usually does, kill any good minerals and vitamins. Their site posts information on their extraction process. As of today, this is what it states:<br /><br />\"\"Manila Coco oil extraction method is through a proprietary, state-of-the-art mechanical expeller (Manila VirginFlo), thermo-stable to hold off the lowest moisture possible (0.1%) to avoid rancidity and keep shelf life consistent up to 3 years under normal conditions. Our oils are 1st and 2nd stage press-induced, without chemical solvents, no bleaching, no deodorizing, no hydrogenation, no fermentation enzymes - to keep its natural light sweet coconut aroma and taste. This method sustains its unique character even when subjected to high (up to 170 degrees Celsius) heat temperatures.\"\"<br /><br />Mechanical Expeller is their form of extraction. And they also say it sustains unique character... blah blah blah... when subjected to high heat temperatures. Therefore, in my personal opinion, it is not as \"unadulterated\" as their information on their products on Amazon make them sound. I will be steering clear of their products.<br /><br />I'm sorry if my review offends some, but if you're going to pay good money for something, you should know about it. I would use different brands before sticking yourself with this one. I was looking for larger quantities, which is why I looked at this product, however I will be sticking with Nutiva. As their coconut oil is cold pressed soon after the coconuts are cut open. The information below is direct from their website.<br /><br />\"\"What makes Nutiva's virgin coconut oil so special? Much of the magic lies in the way the oil is processed. Within several hours of the coconuts being chopped, the meat is cold-pressed, unlike other varieties of coconut oil which can be left for more than 10 hours before pressing. Nutiva's approach preserves as much of the oil's natural color, flavor and aroma, giving you the best results for any use.\"\"<br /><br />If you don't care about how it's processed, it is still going to be much healthier than your average grocery store found vegetable and canola oils. If you want to read some scary things, look up the dark information on how those are processed. YUCK! Talk about horrifying.<br /><br />Thank you for your time.<br />-Amy<br /><br />PS. I used to be one of those \"organic? what kind of fruitcake are you? Think you're more special than anybody else?\" people. But I have learned so much in the past year and a half, dealing with my son's allergies and intollerances. There's more to it than \"oh it's more expensive, so it's just making me feel special because I can afford it.\" No. There's WAY more to it than that. I urge everybody to talk to people about organic foods. It's a way of life, a healthier way of life. We all deserve to live healthier. If you live healthier, even though it costs more, in the long term you're saving money because you are healthier. So that means less doctor visits, less expensive (and nasty harmful) medications, etc.\n",
      "\n",
      "================================================================================\n",
      "\n",
      "I purchased this product because of its name, \"Rumford NATURALS Corn Starch\" (the word \"Naturals\" appears large and clear on the pictured product label). Also, the Amazon description said it was made from \"Non-Genetically Modified Corn\". The label on the product that I ACTUALLY received does NOT say Rumford NATURALS, but it is still MADE WITH Non-Genetically Modified Corn. I say \"made with\" because this product now contains more than ONE ingredient. Its ingredients are: Cornstarch, Calcium Sulfate*, and ONE of the suggested servings (1 Tblsp) contains 15% of the \"Daily Value\" of CALCIUM. That makes this product potentially a good source for dietary calcium supplementation. ON THE OTHER HAND, for persons who must restrict their calcium intake (example, some persons with kidney stones), it can pose a potential problem, even danger. Amazon provides themselves with a nice \"out\" for this. They list the following: Legal Disclaimer: \"Actual product packaging and materials may contain more and different information than what is shown on our website. We recommend that you do not rely solely on the information presented and that you always read labels, warnings, and directions before using or consuming a product.\" BUT, IT IS NOT FAIR FOR AMAZON TO NOT AT LEAST LIST THE CORRECT INGREDIENTS AND PHOTO OF THE PACKAGE SO THAT YOU DO NOT HAVE TO ORDER THE PRODUCT IN ORDER TO \"READ LABELS\" AND FIND OUT WHAT YOU HAVE PURCHASED.<br /><br />I WILL NOT BUY THIS PRODUCT AGAIN:<br /> * because I don't need extra calcium<br /> * because I don't believe that the Calcium Sulfate was added out of interest in the consumer's health<br />  but to make the product cheaper to produce so it can be priced competitively with other brands<br />  and still be touted as having been made from/with Non-Genetically Modified Corn<br /> and just on principal because I can't afford to throw it away and did not want the hassle of returning it.<br /><br />I am very, very displeased with Amazon's incorrect listing of the product, which was brought to their attention when I purchased it in February 2012, and so far nothing has been done.<br /><br />*Although Calcium Sulfate is considered a safe food additive it is basically the same thing as Plaster of Paris. AND, if you use too much of this product (basically the same amount as I had previous used of pure CORN STARCH), the very stiff sediment in the bottom of the cooking container (I make pudding in Pyrex in a microwave and usually stir it only every 30 seconds) will remind you of damp plaster!\n",
      "\n",
      "================================================================================\n",
      "\n"
     ]
    }
   ],
   "source": [
    "# let's look at the longest reviews to understand if the content is legit\n",
    "\n",
    "long_reviews = df[df['Text_Length'] > 2500]['Text']\n",
    "\n",
    "for review in long_reviews.head():\n",
    "    print(review)\n",
    "    print(\"\\n\" + \"=\"*80 + \"\\n\")  # Separator between reviews\n",
    "\n",
    "# They seem to be legit reviews. I will leave them for now. \n",
    "# They show on the other hand, some html elements ('br') that should be removed\n",
    "\n",
    "# Update: Given problems down the pipeline in prohibitively computing costs (e.g. XGBoost, Grid search,etc) the dataset needs to be reduced.So,outliers will be removed"
   ]
  },
  {
   "cell_type": "code",
   "execution_count": 13,
   "metadata": {},
   "outputs": [
    {
     "name": "stdout",
     "output_type": "stream",
     "text": [
      "Remaining rows: 564724\n"
     ]
    }
   ],
   "source": [
    "# Remove rows with text length greater than 2500\n",
    "df = df[df['Text_Length'] <= 2500]\n",
    "\n",
    "# Verify the rows have been removed\n",
    "print(f\"Remaining rows: {len(df)}\")\n",
    "\n",
    "# I originally had 568,453 rows and now removed rows with Text_Length > 2500, the new total of 564,697 confirms that 6 rows were removed, as expected."
   ]
  },
  {
   "cell_type": "markdown",
   "metadata": {},
   "source": [
    "## Cleaning up the column: all lowercase, removing HTML artifacts, extra spaces, stopwords, etc."
   ]
  },
  {
   "cell_type": "code",
   "execution_count": 14,
   "metadata": {},
   "outputs": [
    {
     "data": {
      "text/html": [
       "<div>\n",
       "<style scoped>\n",
       "    .dataframe tbody tr th:only-of-type {\n",
       "        vertical-align: middle;\n",
       "    }\n",
       "\n",
       "    .dataframe tbody tr th {\n",
       "        vertical-align: top;\n",
       "    }\n",
       "\n",
       "    .dataframe thead th {\n",
       "        text-align: right;\n",
       "    }\n",
       "</style>\n",
       "<table border=\"1\" class=\"dataframe\">\n",
       "  <thead>\n",
       "    <tr style=\"text-align: right;\">\n",
       "      <th></th>\n",
       "      <th>ProductId</th>\n",
       "      <th>UserId</th>\n",
       "      <th>Score</th>\n",
       "      <th>Time</th>\n",
       "      <th>Text</th>\n",
       "      <th>Sentiment</th>\n",
       "      <th>Text_Length</th>\n",
       "      <th>Text_Length2</th>\n",
       "      <th>cleaned_text</th>\n",
       "    </tr>\n",
       "  </thead>\n",
       "  <tbody>\n",
       "    <tr>\n",
       "      <th>0</th>\n",
       "      <td>B001E4KFG0</td>\n",
       "      <td>A3SGXH7AUHU8GW</td>\n",
       "      <td>5</td>\n",
       "      <td>1303862400</td>\n",
       "      <td>I have bought several of the Vitality canned dog food products and have found them all to be of good quality. The product looks more like a stew than a processed meat and it smells better. My Labrador is finicky and she appreciates this product better than  most.</td>\n",
       "      <td>Positive</td>\n",
       "      <td>263</td>\n",
       "      <td>48</td>\n",
       "      <td>i have bought several of the vitality canned dog food products and have found them all to be of good quality the product looks more like a stew than a processed meat and it smells better my labrador is finicky and she appreciates this product better than most</td>\n",
       "    </tr>\n",
       "    <tr>\n",
       "      <th>1</th>\n",
       "      <td>B00813GRG4</td>\n",
       "      <td>A1D87F6ZCVE5NK</td>\n",
       "      <td>1</td>\n",
       "      <td>1346976000</td>\n",
       "      <td>Product arrived labeled as Jumbo Salted Peanuts...the peanuts were actually small sized unsalted. Not sure if this was an error or if the vendor intended to represent the product as \"Jumbo\".</td>\n",
       "      <td>Negative</td>\n",
       "      <td>190</td>\n",
       "      <td>31</td>\n",
       "      <td>product arrived labeled as jumbo salted peanutsthe peanuts were actually small sized unsalted not sure if this was an error or if the vendor intended to represent the product as jumbo</td>\n",
       "    </tr>\n",
       "    <tr>\n",
       "      <th>2</th>\n",
       "      <td>B000LQOCH0</td>\n",
       "      <td>ABXLMWJIXXAIN</td>\n",
       "      <td>4</td>\n",
       "      <td>1219017600</td>\n",
       "      <td>This is a confection that has been around a few centuries.  It is a light, pillowy citrus gelatin with nuts - in this case Filberts. And it is cut into tiny squares and then liberally coated with powdered sugar.  And it is a tiny mouthful of heaven.  Not too chewy, and very flavorful.  I highly recommend this yummy treat.  If you are familiar with the story of C.S. Lewis' \"The Lion, The Witch, and The Wardrobe\" - this is the treat that seduces Edmund into selling out his Brother and Sisters to the Witch.</td>\n",
       "      <td>Positive</td>\n",
       "      <td>509</td>\n",
       "      <td>94</td>\n",
       "      <td>this is a confection that has been around a few centuries it is a light pillowy citrus gelatin with nuts in this case filberts and it is cut into tiny squares and then liberally coated with powdered sugar and it is a tiny mouthful of heaven not too chewy and very flavorful i highly recommend this yummy treat if you are familiar with the story of cs lewis the lion the witch and the wardrobe this is the treat that seduces edmund into selling out his brother and sisters to the witch</td>\n",
       "    </tr>\n",
       "    <tr>\n",
       "      <th>3</th>\n",
       "      <td>B000UA0QIQ</td>\n",
       "      <td>A395BORC6FGVXV</td>\n",
       "      <td>2</td>\n",
       "      <td>1307923200</td>\n",
       "      <td>If you are looking for the secret ingredient in Robitussin I believe I have found it.  I got this in addition to the Root Beer Extract I ordered (which was good) and made some cherry soda.  The flavor is very medicinal.</td>\n",
       "      <td>Negative</td>\n",
       "      <td>219</td>\n",
       "      <td>41</td>\n",
       "      <td>if you are looking for the secret ingredient in robitussin i believe i have found it i got this in addition to the root beer extract i ordered which was good and made some cherry soda the flavor is very medicinal</td>\n",
       "    </tr>\n",
       "    <tr>\n",
       "      <th>4</th>\n",
       "      <td>B006K2ZZ7K</td>\n",
       "      <td>A1UQRSCLF8GW1T</td>\n",
       "      <td>5</td>\n",
       "      <td>1350777600</td>\n",
       "      <td>Great taffy at a great price.  There was a wide assortment of yummy taffy.  Delivery was very quick.  If your a taffy lover, this is a deal.</td>\n",
       "      <td>Positive</td>\n",
       "      <td>140</td>\n",
       "      <td>27</td>\n",
       "      <td>great taffy at a great price there was a wide assortment of yummy taffy delivery was very quick if your a taffy lover this is a deal</td>\n",
       "    </tr>\n",
       "  </tbody>\n",
       "</table>\n",
       "</div>"
      ],
      "text/plain": [
       "    ProductId          UserId  Score        Time  \\\n",
       "0  B001E4KFG0  A3SGXH7AUHU8GW      5  1303862400   \n",
       "1  B00813GRG4  A1D87F6ZCVE5NK      1  1346976000   \n",
       "2  B000LQOCH0   ABXLMWJIXXAIN      4  1219017600   \n",
       "3  B000UA0QIQ  A395BORC6FGVXV      2  1307923200   \n",
       "4  B006K2ZZ7K  A1UQRSCLF8GW1T      5  1350777600   \n",
       "\n",
       "                                                                                                                                                                                                                                                                                                                                                                                                                                                                                                                            Text  \\\n",
       "0                                                                                                                                                                                                                                                        I have bought several of the Vitality canned dog food products and have found them all to be of good quality. The product looks more like a stew than a processed meat and it smells better. My Labrador is finicky and she appreciates this product better than  most.   \n",
       "1                                                                                                                                                                                                                                                                                                                                 Product arrived labeled as Jumbo Salted Peanuts...the peanuts were actually small sized unsalted. Not sure if this was an error or if the vendor intended to represent the product as \"Jumbo\".   \n",
       "2  This is a confection that has been around a few centuries.  It is a light, pillowy citrus gelatin with nuts - in this case Filberts. And it is cut into tiny squares and then liberally coated with powdered sugar.  And it is a tiny mouthful of heaven.  Not too chewy, and very flavorful.  I highly recommend this yummy treat.  If you are familiar with the story of C.S. Lewis' \"The Lion, The Witch, and The Wardrobe\" - this is the treat that seduces Edmund into selling out his Brother and Sisters to the Witch.   \n",
       "3                                                                                                                                                                                                                                                                                                    If you are looking for the secret ingredient in Robitussin I believe I have found it.  I got this in addition to the Root Beer Extract I ordered (which was good) and made some cherry soda.  The flavor is very medicinal.   \n",
       "4                                                                                                                                                                                                                                                                                                                                                                                   Great taffy at a great price.  There was a wide assortment of yummy taffy.  Delivery was very quick.  If your a taffy lover, this is a deal.   \n",
       "\n",
       "  Sentiment  Text_Length  Text_Length2  \\\n",
       "0  Positive          263            48   \n",
       "1  Negative          190            31   \n",
       "2  Positive          509            94   \n",
       "3  Negative          219            41   \n",
       "4  Positive          140            27   \n",
       "\n",
       "                                                                                                                                                                                                                                                                                                                                                                                                                                                                                           cleaned_text  \n",
       "0                                                                                                                                                                                                                                   i have bought several of the vitality canned dog food products and have found them all to be of good quality the product looks more like a stew than a processed meat and it smells better my labrador is finicky and she appreciates this product better than most  \n",
       "1                                                                                                                                                                                                                                                                                                               product arrived labeled as jumbo salted peanutsthe peanuts were actually small sized unsalted not sure if this was an error or if the vendor intended to represent the product as jumbo  \n",
       "2  this is a confection that has been around a few centuries it is a light pillowy citrus gelatin with nuts in this case filberts and it is cut into tiny squares and then liberally coated with powdered sugar and it is a tiny mouthful of heaven not too chewy and very flavorful i highly recommend this yummy treat if you are familiar with the story of cs lewis the lion the witch and the wardrobe this is the treat that seduces edmund into selling out his brother and sisters to the witch  \n",
       "3                                                                                                                                                                                                                                                                                  if you are looking for the secret ingredient in robitussin i believe i have found it i got this in addition to the root beer extract i ordered which was good and made some cherry soda the flavor is very medicinal  \n",
       "4                                                                                                                                                                                                                                                                                                                                                                  great taffy at a great price there was a wide assortment of yummy taffy delivery was very quick if your a taffy lover this is a deal  "
      ]
     },
     "metadata": {},
     "output_type": "display_data"
    }
   ],
   "source": [
    "# First regex removal, then stopwords removal\n",
    "\n",
    "# Convert all text to lowercase to avoid duplicates like \"bad\" and \"Bad\"\n",
    "df['cleaned_text'] = df['Text'].apply(lambda x: x.lower())\n",
    "\n",
    "# Remove HTML artifacts like \"<..>\"\n",
    "df['cleaned_text'] = df['cleaned_text'].apply(lambda x: re.sub(r'<.*?>', '', x))\n",
    "\n",
    "# Remove special characters and numbers\n",
    "df['cleaned_text'] = df['cleaned_text'].apply(lambda x: re.sub(r'[^a-zA-Z\\s]', '', x))\n",
    "\n",
    "# Remove extra spaces\n",
    "df['cleaned_text'] = df['cleaned_text'].apply(lambda x: re.sub(r'\\s+', ' ', x).strip())\n",
    "\n",
    "# Remove repeated characters (e.g., \"loooove\" → \"love\")\n",
    "df['cleaned_text'] = df['cleaned_text'].apply(lambda x: re.sub(r'(.)\\1{2,}', r'\\1', x))\n",
    "\n",
    "# Verifying changes\n",
    "display(df.head())"
   ]
  },
  {
   "cell_type": "code",
   "execution_count": 15,
   "metadata": {},
   "outputs": [
    {
     "name": "stdout",
     "output_type": "stream",
     "text": [
      "['i', 'me', 'my', 'myself', 'we', 'our', 'ours', 'ourselves', 'you', \"you're\"]\n"
     ]
    },
    {
     "name": "stderr",
     "output_type": "stream",
     "text": [
      "[nltk_data] Downloading package stopwords to\n",
      "[nltk_data]     C:\\Users\\alexa\\AppData\\Roaming\\nltk_data...\n",
      "[nltk_data]   Package stopwords is already up-to-date!\n"
     ]
    }
   ],
   "source": [
    "# Downloading the stopwords resource\n",
    "\n",
    "import nltk\n",
    "nltk.download('stopwords')\n",
    "from nltk.corpus import stopwords\n",
    "print(stopwords.words('english')[:10])"
   ]
  },
  {
   "cell_type": "code",
   "execution_count": 16,
   "metadata": {},
   "outputs": [],
   "source": [
    "# Removing Stopwords\n",
    "\n",
    "# Standard English stopwords\n",
    "stop_words = set(stopwords.words('english'))\n",
    "\n",
    "# Add custom stopwords based on previous visualizations \n",
    "custom_stopwords = {\n",
    "    \"love\", \"great\", \"good\", \"used\", \"buy\", \"tried\", \"give\", \"got\", \n",
    "    \"makes\", \"taste\", \"flavor\", \"tea\", \"coffee\", \"time\", \"found\", \n",
    "    \"know\", \"br\", \"product\", \"amazon\", \"one\", \"use\", \"find\", \"make\"\n",
    "}\n",
    "\n",
    "# Combine standard and custom stopwords\n",
    "stop_words.update(custom_stopwords)\n",
    "\n",
    "# Apply stopword removal\n",
    "df['cleaned_text'] = df['cleaned_text'].apply(lambda x: ' '.join([word for word in x.split() if word not in stop_words]))\n",
    "\n",
    "# Check\n",
    "#print(df['cleaned_text'].head())\n"
   ]
  },
  {
   "cell_type": "code",
   "execution_count": 17,
   "metadata": {},
   "outputs": [],
   "source": [
    "# Lets replace sequence of repeated characters (e.g. aaaaa) with a single one\n",
    "\n",
    "df['cleaned_text'] = df['cleaned_text'].apply(lambda x: re.sub(r'(.)\\1{2,}', r'\\1', x))\n"
   ]
  },
  {
   "cell_type": "code",
   "execution_count": 18,
   "metadata": {},
   "outputs": [],
   "source": [
    "# Before lemmatization (preferred over stemming) let's handling negations first. \n",
    "\n",
    "def handle_negations(text):\n",
    "    negations = r\"\\b(?:not|no|never|n't|cannot|can't|don't|won't|shouldn't|couldn't|didn't|doesn't|isn't|wasn't|aren't|weren't|mightn't|mustn't)\\b\"\n",
    "    return re.sub(f\"({negations})[\\s]+([a-zA-Z]+)\", r\"\\1_\\2\", text)\n",
    "\n",
    "df['cleaned_text'] = df['cleaned_text'].apply(handle_negations)\n"
   ]
  },
  {
   "cell_type": "code",
   "execution_count": 19,
   "metadata": {},
   "outputs": [
    {
     "name": "stderr",
     "output_type": "stream",
     "text": [
      "[nltk_data] Downloading package wordnet to\n",
      "[nltk_data]     C:\\Users\\alexa\\AppData\\Roaming\\nltk_data...\n",
      "[nltk_data]   Package wordnet is already up-to-date!\n"
     ]
    },
    {
     "data": {
      "text/plain": [
       "0                                                                                                                                                    bought several vitality canned dog food product quality look like stew processed meat smell better labrador finicky appreciates better\n",
       "1                                                                                                                                                                   arrived labeled jumbo salted peanutsthe peanut actually small sized unsalted sure error vendor intended represent jumbo\n",
       "2    confection around century light pillowy citrus gelatin nut case filbert cut tiny square liberally coated powdered sugar tiny mouthful heaven chewy flavorful highly recommend yummy treat familiar story c lewis lion witch wardrobe treat seduces edmund selling brother sister witch\n",
       "3                                                                                                                                                                                looking secret ingredient robitussin believe addition root beer extract ordered made cherry soda medicinal\n",
       "4                                                                                                                                                                                                                   taffy price wide assortment yummy taffy delivery quick taffy lover deal\n",
       "Name: cleaned_text, dtype: object"
      ]
     },
     "metadata": {},
     "output_type": "display_data"
    }
   ],
   "source": [
    "# Apply lemmatization to normalize tokens(words)\n",
    "\n",
    "import nltk\n",
    "nltk.download('wordnet') # WordNet corpus is required and needs to be downloaded separately \n",
    "\n",
    "lemmatizer = WordNetLemmatizer()\n",
    "\n",
    "df['cleaned_text'] = df['cleaned_text'].apply(lambda x: ' '.join([lemmatizer.lemmatize(word) for word in x.split()]))\n",
    "\n",
    "display(df['cleaned_text'].head())"
   ]
  },
  {
   "cell_type": "markdown",
   "metadata": {},
   "source": [
    "Cleaning steps done:\n",
    "1. convert to lowercase\n",
    "2. remove html tags\n",
    "3. remove special characters and numbers\n",
    "4. remove extra spaces\n",
    "5. remove stopwords\n",
    "6. handle repeated characters\n",
    "7. handling negations\n",
    "8. Lemmatization\n",
    "\n",
    "Let's verify the quality of the cleaned text (WordCloud) and explore n-grams"
   ]
  },
  {
   "cell_type": "code",
   "execution_count": null,
   "metadata": {},
   "outputs": [],
   "source": [
    "# Wordcloud\n",
    "\n",
    "# Combine all cleaned text into a single string\n",
    "all_text = \" \".join(df['cleaned_text'])\n",
    "\n",
    "# Generate the word cloud\n",
    "wordcloud = WordCloud(width=800, height=400, background_color=\"white\").generate(all_text)\n",
    "\n",
    "# Plot the word cloud\n",
    "plt.figure(figsize=(10, 6))\n",
    "plt.imshow(wordcloud, interpolation=\"bilinear\")\n",
    "plt.axis(\"off\")  # Turn off axes\n",
    "plt.title(\"Word Cloud of Cleaned Text\", fontsize=16)\n",
    "plt.show()"
   ]
  },
  {
   "cell_type": "code",
   "execution_count": null,
   "metadata": {},
   "outputs": [],
   "source": [
    "# After many iterations, stopwords were progressively added to the word cloud, until these were not dominating the visualization (focus is in opinion-bearing words)\n",
    "# Initialize stopwords from nltk and add custom stopwords, so that it does not generate conflicts with the code above\n",
    "\n",
    "stop_words = set(stopwords.words('english'))\n",
    "\n",
    "stop_words.update({\n",
    "    \"dog\", \"food\", \"grocery\", \"store\", \"stuff\", \"think\", \"even\",\n",
    "    \"though\", \"thought\", \"subscribe\", \"gluten\", \"free\", \"cat\",\n",
    "    \"butter\", \"peanut\", \"way\", \"thing\", \"much\", \"still\", \"either\",\n",
    "    \"kind\", \"although\", \"made\", \"year\", \"old\", \"ago\", \"problem\",\n",
    "    \"say\", \"look\", \"purchased\", \"bought\", \"ordered\", \"saved\", \"fact\",\n",
    "    \"seem\", \"actually\", \"well\", \"home\", \"dark\", \"chocolate\", \"seems\", \"im\", \"sure\", \"nice\", \n",
    "    \"anything\", \"maybe\", \"dont\", \"want\", \"enough\", \"come\", \n",
    "    \"people\", \"sweet\", \"potato\", \"coconut\", \"water\", \"thank\", \n",
    "    \"lot\", \"work\", \"really\", \"husband\",\"going\",\"put\",\"company\", \"havent\", \"doesnt\",\"order\",\n",
    "    \"said\", \"go\",\"thats\",\"didnt\", \"must\", \"like\", \"would\", \"get\", \"price\", \"bag\", \"little\", \"treat\",  \n",
    "    \"better\", \"cup\", \"ive\", \"eat\", \"box\", \"try\", \"drink\", \"day\", \"brand\", \"also\",\"chip\",\"snack\",\"sugar\",\"bar\",\"cant\",\n",
    "    \"two\", \"pack\", \"since\", \"many\"\n",
    "})\n",
    "\n",
    "# Apply stopwords removal to the 'cleaned_text' column\n",
    "df['cleaned_text'] = df['cleaned_text'].apply(\n",
    "    lambda x: ' '.join([word for word in x.split() if word not in stop_words])\n",
    ")\n",
    "\n",
    "# Verify the stopwords are removed\n",
    "#print(df['cleaned_text'].head())\n",
    "\n",
    "# Generate WordCloud\n",
    "all_text = \" \".join(df['cleaned_text'])\n",
    "wordcloud = WordCloud(width=800, height=400, background_color=\"white\").generate(all_text)\n",
    "\n",
    "# Visualize\n",
    "\n",
    "plt.figure(figsize=(10, 6))\n",
    "plt.imshow(wordcloud, interpolation=\"bilinear\")\n",
    "plt.axis(\"off\")\n",
    "plt.title(\"Word Cloud of Cleaned Text\", fontsize=16)\n",
    "plt.show()"
   ]
  },
  {
   "cell_type": "code",
   "execution_count": null,
   "metadata": {},
   "outputs": [],
   "source": [
    "\n",
    "# N-Gram Analysis\n",
    "\n",
    "# Define the n-gram range (e.g., 2, 2 for bi-grams or 3, 3 for tri-grams)\n",
    "vectorizer = CountVectorizer(ngram_range=(2, 2), stop_words='english')  # For bi-grams\n",
    "ngrams = vectorizer.fit_transform(df['cleaned_text'])\n",
    "\n",
    "# Extract the top n most frequent n-grams\n",
    "ngram_features = vectorizer.get_feature_names_out()\n",
    "ngram_counts = ngrams.sum(axis=0).A1\n",
    "ngram_freq = list(zip(ngram_features, ngram_counts))\n",
    "ngram_freq = sorted(ngram_freq, key=lambda x: x[1], reverse=True)[:10]  # Top 10\n",
    "\n",
    "# Display the results\n",
    "print(\"Top 10 bi-grams:\")\n",
    "for ngram, count in ngram_freq:\n",
    "    print(f\"{ngram}: {count}\")"
   ]
  },
  {
   "cell_type": "code",
   "execution_count": 21,
   "metadata": {},
   "outputs": [],
   "source": [
    "# Define multi-word terms to remove\n",
    "phrases_to_remove = [\"earl grey\", \"olive oil\", \"green mountain\"]\n",
    "\n",
    "# Define a function to remove these phrases\n",
    "def remove_phrases(text):\n",
    "    for phrase in phrases_to_remove:\n",
    "        text = text.replace(phrase, '')  # Replace the phrase with an empty string\n",
    "    return text\n",
    "\n",
    "# Apply the function to the cleaned_text column\n",
    "df['cleaned_text'] = df['cleaned_text'].apply(remove_phrases)\n",
    "\n",
    "# Remove extra spaces again (optional cleanup step)\n",
    "df['cleaned_text'] = df['cleaned_text'].apply(lambda x: ' '.join(x.split()))\n"
   ]
  },
  {
   "cell_type": "code",
   "execution_count": null,
   "metadata": {},
   "outputs": [],
   "source": [
    "# Verifying changes\n",
    "display(df.head())\n",
    "print(df.isnull().sum())"
   ]
  },
  {
   "cell_type": "code",
   "execution_count": 27,
   "metadata": {},
   "outputs": [],
   "source": [
    "# saving the cleaned_data.csv\n",
    "#df.to_csv(\"../data/cleaned_data.csv\", index=False)"
   ]
  }
 ],
 "metadata": {
  "kernelspec": {
   "display_name": "sentiment_reviews_jan25",
   "language": "python",
   "name": "python3"
  },
  "language_info": {
   "codemirror_mode": {
    "name": "ipython",
    "version": 3
   },
   "file_extension": ".py",
   "mimetype": "text/x-python",
   "name": "python",
   "nbconvert_exporter": "python",
   "pygments_lexer": "ipython3",
   "version": "3.9.21"
  }
 },
 "nbformat": 4,
 "nbformat_minor": 2
}
